{
 "cells": [
  {
   "cell_type": "code",
   "execution_count": 1,
   "id": "637ab648",
   "metadata": {
    "execution": {
     "iopub.execute_input": "2022-03-20T17:35:29.863219Z",
     "iopub.status.busy": "2022-03-20T17:35:29.862362Z",
     "iopub.status.idle": "2022-03-20T17:35:29.876335Z",
     "shell.execute_reply": "2022-03-20T17:35:29.875639Z"
    },
    "jupyter": {
     "source_hidden": true
    },
    "papermill": {
     "duration": 0.024403,
     "end_time": "2022-03-20T17:35:29.878359",
     "exception": false,
     "start_time": "2022-03-20T17:35:29.853956",
     "status": "completed"
    },
    "tags": [
     "injected-parameters"
    ]
   },
   "outputs": [],
   "source": [
    "# Parameters\n",
    "msgs = \"Ran from Airflow at 2022-03-20T17:35:23.651358+00:00!\"\n"
   ]
  },
  {
   "cell_type": "code",
   "execution_count": 2,
   "id": "951d4b87-ca8b-49f4-ac1e-2e30251be909",
   "metadata": {
    "execution": {
     "iopub.execute_input": "2022-03-20T17:35:29.892744Z",
     "iopub.status.busy": "2022-03-20T17:35:29.892437Z",
     "iopub.status.idle": "2022-03-20T17:35:29.898022Z",
     "shell.execute_reply": "2022-03-20T17:35:29.897079Z"
    },
    "jupyter": {
     "source_hidden": true
    },
    "papermill": {
     "duration": 0.01487,
     "end_time": "2022-03-20T17:35:29.900925",
     "exception": false,
     "start_time": "2022-03-20T17:35:29.886055",
     "status": "completed"
    },
    "tags": []
   },
   "outputs": [
    {
     "name": "stdout",
     "output_type": "stream",
     "text": [
      "Hello\n"
     ]
    }
   ],
   "source": [
    "print(\"Hello\")"
   ]
  },
  {
   "cell_type": "code",
   "execution_count": 3,
   "id": "fc282e3f-3381-4ce6-b72d-ffc64e0bf53e",
   "metadata": {
    "execution": {
     "iopub.execute_input": "2022-03-20T17:35:29.916857Z",
     "iopub.status.busy": "2022-03-20T17:35:29.916009Z",
     "iopub.status.idle": "2022-03-20T17:35:30.797680Z",
     "shell.execute_reply": "2022-03-20T17:35:30.796938Z"
    },
    "jupyter": {
     "source_hidden": true
    },
    "papermill": {
     "duration": 0.893491,
     "end_time": "2022-03-20T17:35:30.800346",
     "exception": false,
     "start_time": "2022-03-20T17:35:29.906855",
     "status": "completed"
    },
    "tags": []
   },
   "outputs": [],
   "source": [
    "import numpy as np \n",
    "import pandas as pd"
   ]
  },
  {
   "cell_type": "code",
   "execution_count": 4,
   "id": "fa157851-ac48-4212-a62e-5b7758716eb8",
   "metadata": {
    "execution": {
     "iopub.execute_input": "2022-03-20T17:35:30.818271Z",
     "iopub.status.busy": "2022-03-20T17:35:30.817647Z",
     "iopub.status.idle": "2022-03-20T17:35:30.821857Z",
     "shell.execute_reply": "2022-03-20T17:35:30.821005Z"
    },
    "jupyter": {
     "source_hidden": true
    },
    "papermill": {
     "duration": 0.016284,
     "end_time": "2022-03-20T17:35:30.824681",
     "exception": false,
     "start_time": "2022-03-20T17:35:30.808397",
     "status": "completed"
    },
    "tags": []
   },
   "outputs": [
    {
     "name": "stdout",
     "output_type": "stream",
     "text": [
      "Toi la Toan ne\n"
     ]
    }
   ],
   "source": [
    "print(\"Toi la Toan ne\")"
   ]
  }
 ],
 "metadata": {
  "kernelspec": {
   "display_name": "Python 3 (ipykernel)",
   "language": "python",
   "name": "python3"
  },
  "language_info": {
   "codemirror_mode": {
    "name": "ipython",
    "version": 3
   },
   "file_extension": ".py",
   "mimetype": "text/x-python",
   "name": "python",
   "nbconvert_exporter": "python",
   "pygments_lexer": "ipython3",
   "version": "3.8.12"
  },
  "papermill": {
   "default_parameters": {},
   "duration": 5.310976,
   "end_time": "2022-03-20T17:35:31.152473",
   "environment_variables": {},
   "exception": null,
   "input_path": "/opt/code/modeling/TEST.ipynb",
   "output_path": "/opt/code/modeling/output/TS-2022-03-20T17:35:23.651358+00:00.ipynb",
   "parameters": {
    "msgs": "Ran from Airflow at 2022-03-20T17:35:23.651358+00:00!"
   },
   "start_time": "2022-03-20T17:35:25.841497",
   "version": "2.3.4"
  }
 },
 "nbformat": 4,
 "nbformat_minor": 5
}