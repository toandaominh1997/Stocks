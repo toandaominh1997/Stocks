{
 "cells": [
  {
   "cell_type": "code",
   "execution_count": 1,
   "id": "a893f2f3",
   "metadata": {
    "execution": {
     "iopub.execute_input": "2022-03-20T17:16:34.311812Z",
     "iopub.status.busy": "2022-03-20T17:16:34.311398Z",
     "iopub.status.idle": "2022-03-20T17:16:34.324111Z",
     "shell.execute_reply": "2022-03-20T17:16:34.323313Z"
    },
    "papermill": {
     "duration": 0.023086,
     "end_time": "2022-03-20T17:16:34.326082",
     "exception": false,
     "start_time": "2022-03-20T17:16:34.302996",
     "status": "completed"
    },
    "tags": [
     "injected-parameters"
    ]
   },
   "outputs": [],
   "source": [
    "# Parameters\n",
    "msgs = \"Ran from Airflow at 2022-03-20T17:16:26.190714+00:00!\"\n"
   ]
  },
  {
   "cell_type": "code",
   "execution_count": 2,
   "id": "951d4b87-ca8b-49f4-ac1e-2e30251be909",
   "metadata": {
    "execution": {
     "iopub.execute_input": "2022-03-20T17:16:34.337488Z",
     "iopub.status.busy": "2022-03-20T17:16:34.337223Z",
     "iopub.status.idle": "2022-03-20T17:16:34.341593Z",
     "shell.execute_reply": "2022-03-20T17:16:34.340820Z"
    },
    "papermill": {
     "duration": 0.012089,
     "end_time": "2022-03-20T17:16:34.343467",
     "exception": false,
     "start_time": "2022-03-20T17:16:34.331378",
     "status": "completed"
    },
    "tags": []
   },
   "outputs": [
    {
     "name": "stdout",
     "output_type": "stream",
     "text": [
      "Hello\n"
     ]
    }
   ],
   "source": [
    "print(\"Hello\")"
   ]
  },
  {
   "cell_type": "code",
   "execution_count": 3,
   "id": "fc282e3f-3381-4ce6-b72d-ffc64e0bf53e",
   "metadata": {
    "execution": {
     "iopub.execute_input": "2022-03-20T17:16:34.355839Z",
     "iopub.status.busy": "2022-03-20T17:16:34.355398Z",
     "iopub.status.idle": "2022-03-20T17:16:35.009840Z",
     "shell.execute_reply": "2022-03-20T17:16:35.008215Z"
    },
    "papermill": {
     "duration": 0.668571,
     "end_time": "2022-03-20T17:16:35.017572",
     "exception": false,
     "start_time": "2022-03-20T17:16:34.349001",
     "status": "completed"
    },
    "tags": []
   },
   "outputs": [],
   "source": [
    "import numpy as np \n",
    "import pandas as pd"
   ]
  },
  {
   "cell_type": "code",
   "execution_count": 4,
   "id": "fa157851-ac48-4212-a62e-5b7758716eb8",
   "metadata": {
    "execution": {
     "iopub.execute_input": "2022-03-20T17:16:35.033861Z",
     "iopub.status.busy": "2022-03-20T17:16:35.033583Z",
     "iopub.status.idle": "2022-03-20T17:16:35.038664Z",
     "shell.execute_reply": "2022-03-20T17:16:35.037115Z"
    },
    "papermill": {
     "duration": 0.017264,
     "end_time": "2022-03-20T17:16:35.042716",
     "exception": false,
     "start_time": "2022-03-20T17:16:35.025452",
     "status": "completed"
    },
    "tags": []
   },
   "outputs": [
    {
     "name": "stdout",
     "output_type": "stream",
     "text": [
      "Toi la Toan ne\n"
     ]
    }
   ],
   "source": [
    "print(\"Toi la Toan ne\")"
   ]
  }
 ],
 "metadata": {
  "kernelspec": {
   "display_name": "Python 3 (ipykernel)",
   "language": "python",
   "name": "python3"
  },
  "language_info": {
   "codemirror_mode": {
    "name": "ipython",
    "version": 3
   },
   "file_extension": ".py",
   "mimetype": "text/x-python",
   "name": "python",
   "nbconvert_exporter": "python",
   "pygments_lexer": "ipython3",
   "version": "3.9.7"
  },
  "papermill": {
   "default_parameters": {},
   "duration": 7.000793,
   "end_time": "2022-03-20T17:16:35.617132",
   "environment_variables": {},
   "exception": null,
   "input_path": "/opt/code/modeling/TEST.ipynb",
   "output_path": "/opt/code/modeling/output/TS-2022-03-20T17:16:26.190714+00:00.ipynb",
   "parameters": {
    "msgs": "Ran from Airflow at 2022-03-20T17:16:26.190714+00:00!"
   },
   "start_time": "2022-03-20T17:16:28.616339",
   "version": "2.3.4"
  }
 },
 "nbformat": 4,
 "nbformat_minor": 5
}
