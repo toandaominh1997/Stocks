{
 "cells": [
  {
   "cell_type": "code",
   "execution_count": 1,
   "id": "56c651cb",
   "metadata": {
    "execution": {
     "iopub.execute_input": "2022-03-20T17:39:13.698526Z",
     "iopub.status.busy": "2022-03-20T17:39:13.697837Z",
     "iopub.status.idle": "2022-03-20T17:39:13.708007Z",
     "shell.execute_reply": "2022-03-20T17:39:13.707185Z"
    },
    "jupyter": {
     "source_hidden": true
    },
    "papermill": {
     "duration": 0.020707,
     "end_time": "2022-03-20T17:39:13.710045",
     "exception": false,
     "start_time": "2022-03-20T17:39:13.689338",
     "status": "completed"
    },
    "tags": [
     "injected-parameters"
    ]
   },
   "outputs": [],
   "source": [
    "# Parameters\n",
    "msgs = \"Ran from Airflow at 2022-03-20T17:39:09.138357+00:00!\"\n"
   ]
  },
  {
   "cell_type": "code",
   "execution_count": 2,
   "id": "951d4b87-ca8b-49f4-ac1e-2e30251be909",
   "metadata": {
    "execution": {
     "iopub.execute_input": "2022-03-20T17:39:13.721957Z",
     "iopub.status.busy": "2022-03-20T17:39:13.721324Z",
     "iopub.status.idle": "2022-03-20T17:39:13.725421Z",
     "shell.execute_reply": "2022-03-20T17:39:13.724797Z"
    },
    "jupyter": {
     "source_hidden": true
    },
    "papermill": {
     "duration": 0.012987,
     "end_time": "2022-03-20T17:39:13.728392",
     "exception": false,
     "start_time": "2022-03-20T17:39:13.715405",
     "status": "completed"
    },
    "tags": []
   },
   "outputs": [
    {
     "name": "stdout",
     "output_type": "stream",
     "text": [
      "Hello\n"
     ]
    }
   ],
   "source": [
    "print(\"Hello\")"
   ]
  },
  {
   "cell_type": "code",
   "execution_count": 3,
   "id": "fc282e3f-3381-4ce6-b72d-ffc64e0bf53e",
   "metadata": {
    "execution": {
     "iopub.execute_input": "2022-03-20T17:39:13.745700Z",
     "iopub.status.busy": "2022-03-20T17:39:13.745130Z",
     "iopub.status.idle": "2022-03-20T17:39:14.227423Z",
     "shell.execute_reply": "2022-03-20T17:39:14.226801Z"
    },
    "jupyter": {
     "source_hidden": true
    },
    "papermill": {
     "duration": 0.493732,
     "end_time": "2022-03-20T17:39:14.229940",
     "exception": false,
     "start_time": "2022-03-20T17:39:13.736208",
     "status": "completed"
    },
    "tags": []
   },
   "outputs": [],
   "source": [
    "import numpy as np \n",
    "import pandas as pd"
   ]
  },
  {
   "cell_type": "code",
   "execution_count": 4,
   "id": "fa157851-ac48-4212-a62e-5b7758716eb8",
   "metadata": {
    "execution": {
     "iopub.execute_input": "2022-03-20T17:39:14.247473Z",
     "iopub.status.busy": "2022-03-20T17:39:14.247062Z",
     "iopub.status.idle": "2022-03-20T17:39:14.251044Z",
     "shell.execute_reply": "2022-03-20T17:39:14.250377Z"
    },
    "jupyter": {
     "source_hidden": true
    },
    "papermill": {
     "duration": 0.016158,
     "end_time": "2022-03-20T17:39:14.253966",
     "exception": false,
     "start_time": "2022-03-20T17:39:14.237808",
     "status": "completed"
    },
    "tags": []
   },
   "outputs": [
    {
     "name": "stdout",
     "output_type": "stream",
     "text": [
      "Toi la Toan ne\n"
     ]
    }
   ],
   "source": [
    "print(\"Toi la Toan ne\")"
   ]
  }
 ],
 "metadata": {
  "kernelspec": {
   "display_name": "Python 3 (ipykernel)",
   "language": "python",
   "name": "python3"
  },
  "language_info": {
   "codemirror_mode": {
    "name": "ipython",
    "version": 3
   },
   "file_extension": ".py",
   "mimetype": "text/x-python",
   "name": "python",
   "nbconvert_exporter": "python",
   "pygments_lexer": "ipython3",
   "version": "3.8.12"
  },
  "papermill": {
   "default_parameters": {},
   "duration": 3.369916,
   "end_time": "2022-03-20T17:39:14.481928",
   "environment_variables": {},
   "exception": null,
   "input_path": "/opt/code/modeling/TEST.ipynb",
   "output_path": "/opt/code/modeling/output/TS-2022-03-20T17:39:09.138357+00:00.ipynb",
   "parameters": {
    "msgs": "Ran from Airflow at 2022-03-20T17:39:09.138357+00:00!"
   },
   "start_time": "2022-03-20T17:39:11.112012",
   "version": "2.3.4"
  }
 },
 "nbformat": 4,
 "nbformat_minor": 5
}