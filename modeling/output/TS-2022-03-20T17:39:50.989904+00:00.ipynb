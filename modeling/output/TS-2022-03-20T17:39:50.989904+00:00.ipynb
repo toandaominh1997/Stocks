{
 "cells": [
  {
   "cell_type": "code",
   "execution_count": 1,
   "id": "0f1d41e1",
   "metadata": {
    "execution": {
     "iopub.execute_input": "2022-03-20T17:39:56.082645Z",
     "iopub.status.busy": "2022-03-20T17:39:56.082052Z",
     "iopub.status.idle": "2022-03-20T17:39:56.095193Z",
     "shell.execute_reply": "2022-03-20T17:39:56.094381Z"
    },
    "jupyter": {
     "source_hidden": true
    },
    "papermill": {
     "duration": 0.023825,
     "end_time": "2022-03-20T17:39:56.097340",
     "exception": false,
     "start_time": "2022-03-20T17:39:56.073515",
     "status": "completed"
    },
    "tags": [
     "injected-parameters"
    ]
   },
   "outputs": [],
   "source": [
    "# Parameters\n",
    "msgs = \"Ran from Airflow at 2022-03-20T17:39:50.989904+00:00!\"\n"
   ]
  },
  {
   "cell_type": "code",
   "execution_count": 2,
   "id": "951d4b87-ca8b-49f4-ac1e-2e30251be909",
   "metadata": {
    "execution": {
     "iopub.execute_input": "2022-03-20T17:39:56.109362Z",
     "iopub.status.busy": "2022-03-20T17:39:56.108755Z",
     "iopub.status.idle": "2022-03-20T17:39:56.112920Z",
     "shell.execute_reply": "2022-03-20T17:39:56.112295Z"
    },
    "jupyter": {
     "source_hidden": true
    },
    "papermill": {
     "duration": 0.013347,
     "end_time": "2022-03-20T17:39:56.116130",
     "exception": false,
     "start_time": "2022-03-20T17:39:56.102783",
     "status": "completed"
    },
    "tags": []
   },
   "outputs": [
    {
     "name": "stdout",
     "output_type": "stream",
     "text": [
      "Hello\n"
     ]
    }
   ],
   "source": [
    "print(\"Hello\")"
   ]
  },
  {
   "cell_type": "code",
   "execution_count": 3,
   "id": "fc282e3f-3381-4ce6-b72d-ffc64e0bf53e",
   "metadata": {
    "execution": {
     "iopub.execute_input": "2022-03-20T17:39:56.133066Z",
     "iopub.status.busy": "2022-03-20T17:39:56.132786Z",
     "iopub.status.idle": "2022-03-20T17:39:57.172542Z",
     "shell.execute_reply": "2022-03-20T17:39:57.171782Z"
    },
    "papermill": {
     "duration": 1.050421,
     "end_time": "2022-03-20T17:39:57.174450",
     "exception": false,
     "start_time": "2022-03-20T17:39:56.124029",
     "status": "completed"
    },
    "tags": []
   },
   "outputs": [
    {
     "name": "stdout",
     "output_type": "stream",
     "text": [
      "Done!\n"
     ]
    }
   ],
   "source": [
    "import os\n",
    "import scipy\n",
    "import numpy as np\n",
    "import pandas as pd\n",
    "from pathlib import Path\n",
    "# pd.set_option('display.max_rows', None)\n",
    "pd.set_option('display.max_columns', None)\n",
    "from sklearn import set_config\n",
    "set_config(display = 'diagram')\n",
    "from pandas.api.types import infer_dtype\n",
    "\n",
    "\n",
    "# Scikit Learn import\n",
    "from sklearn.base import BaseEstimator, TransformerMixin\n",
    "from sklearn.pipeline import Pipeline, FeatureUnion\n",
    "from sklearn.compose import ColumnTransformer, make_column_selector\n",
    "from sklearn.decomposition import PCA\n",
    "from sklearn.svm import OneClassSVM\n",
    "from sklearn.pipeline import FeatureUnion\n",
    "# from imblearn.pipeline import Pipeline\n",
    "from sklearn.model_selection import StratifiedKFold, GridSearchCV, train_test_split, TimeSeriesSplit\n",
    "from sklearn.preprocessing import RobustScaler, LabelEncoder\n",
    "from sklearn.metrics import make_scorer, accuracy_score\n",
    "from sklearn.experimental import enable_halving_search_cv  # noqa\n",
    "from sklearn.model_selection import HalvingGridSearchCV\n",
    "from sklearn.compose import ColumnTransformer\n",
    "from sklearn.pipeline import FeatureUnion\n",
    "from sklearn import cluster\n",
    "from sklearn.feature_extraction.text import TfidfVectorizer\n",
    "from sklearn.preprocessing import OrdinalEncoder, MinMaxScaler, QuantileTransformer\n",
    "from sklearn.impute import SimpleImputer\n",
    "from sklearn.multioutput import MultiOutputRegressor\n",
    "\n",
    "print(\"Done!\")"
   ]
  },
  {
   "cell_type": "code",
   "execution_count": 4,
   "id": "fa157851-ac48-4212-a62e-5b7758716eb8",
   "metadata": {
    "execution": {
     "iopub.execute_input": "2022-03-20T17:39:57.187981Z",
     "iopub.status.busy": "2022-03-20T17:39:57.187672Z",
     "iopub.status.idle": "2022-03-20T17:39:57.192461Z",
     "shell.execute_reply": "2022-03-20T17:39:57.191578Z"
    },
    "jupyter": {
     "source_hidden": true
    },
    "papermill": {
     "duration": 0.014009,
     "end_time": "2022-03-20T17:39:57.194392",
     "exception": false,
     "start_time": "2022-03-20T17:39:57.180383",
     "status": "completed"
    },
    "tags": []
   },
   "outputs": [
    {
     "name": "stdout",
     "output_type": "stream",
     "text": [
      "Toi la Toan ne\n"
     ]
    }
   ],
   "source": [
    "print(\"Toi la Toan ne\")"
   ]
  }
 ],
 "metadata": {
  "kernelspec": {
   "display_name": "Python 3 (ipykernel)",
   "language": "python",
   "name": "python3"
  },
  "language_info": {
   "codemirror_mode": {
    "name": "ipython",
    "version": 3
   },
   "file_extension": ".py",
   "mimetype": "text/x-python",
   "name": "python",
   "nbconvert_exporter": "python",
   "pygments_lexer": "ipython3",
   "version": "3.9.7"
  },
  "papermill": {
   "default_parameters": {},
   "duration": 4.193722,
   "end_time": "2022-03-20T17:39:57.524499",
   "environment_variables": {},
   "exception": null,
   "input_path": "/opt/code/modeling/TEST.ipynb",
   "output_path": "/opt/code/modeling/output/TS-2022-03-20T17:39:50.989904+00:00.ipynb",
   "parameters": {
    "msgs": "Ran from Airflow at 2022-03-20T17:39:50.989904+00:00!"
   },
   "start_time": "2022-03-20T17:39:53.330777",
   "version": "2.3.4"
  }
 },
 "nbformat": 4,
 "nbformat_minor": 5
}
