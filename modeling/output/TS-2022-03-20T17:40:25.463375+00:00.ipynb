{
 "cells": [
  {
   "cell_type": "markdown",
   "id": "fc8aec82",
   "metadata": {
    "tags": [
     "papermill-error-cell-tag"
    ]
   },
   "source": [
    "<span style=\"color:red; font-family:Helvetica Neue, Helvetica, Arial, sans-serif; font-size:2em;\">An Exception was encountered at '<a href=\"#papermill-error-cell\">In [3]</a>'.</span>"
   ]
  },
  {
   "cell_type": "code",
   "execution_count": 1,
   "id": "67b2c8fa",
   "metadata": {
    "execution": {
     "iopub.execute_input": "2022-03-20T17:40:29.959772Z",
     "iopub.status.busy": "2022-03-20T17:40:29.958878Z",
     "iopub.status.idle": "2022-03-20T17:40:29.971606Z",
     "shell.execute_reply": "2022-03-20T17:40:29.970970Z"
    },
    "jupyter": {
     "source_hidden": true
    },
    "papermill": {
     "duration": 0.027895,
     "end_time": "2022-03-20T17:40:29.974732",
     "exception": false,
     "start_time": "2022-03-20T17:40:29.946837",
     "status": "completed"
    },
    "tags": [
     "injected-parameters"
    ]
   },
   "outputs": [],
   "source": [
    "# Parameters\n",
    "msgs = \"Ran from Airflow at 2022-03-20T17:40:25.463375+00:00!\"\n"
   ]
  },
  {
   "cell_type": "code",
   "execution_count": 2,
   "id": "951d4b87-ca8b-49f4-ac1e-2e30251be909",
   "metadata": {
    "execution": {
     "iopub.execute_input": "2022-03-20T17:40:29.990637Z",
     "iopub.status.busy": "2022-03-20T17:40:29.990255Z",
     "iopub.status.idle": "2022-03-20T17:40:29.996626Z",
     "shell.execute_reply": "2022-03-20T17:40:29.995606Z"
    },
    "jupyter": {
     "source_hidden": true
    },
    "papermill": {
     "duration": 0.018616,
     "end_time": "2022-03-20T17:40:30.000880",
     "exception": false,
     "start_time": "2022-03-20T17:40:29.982264",
     "status": "completed"
    },
    "tags": []
   },
   "outputs": [
    {
     "name": "stdout",
     "output_type": "stream",
     "text": [
      "Hello\n"
     ]
    }
   ],
   "source": [
    "print(\"Hello\")"
   ]
  },
  {
   "cell_type": "markdown",
   "id": "83fe29a3",
   "metadata": {
    "tags": [
     "papermill-error-cell-tag"
    ]
   },
   "source": [
    "<span id=\"papermill-error-cell\" style=\"color:red; font-family:Helvetica Neue, Helvetica, Arial, sans-serif; font-size:2em;\">Execution using papermill encountered an exception here and stopped:</span>"
   ]
  },
  {
   "cell_type": "code",
   "execution_count": 3,
   "id": "fc282e3f-3381-4ce6-b72d-ffc64e0bf53e",
   "metadata": {
    "execution": {
     "iopub.execute_input": "2022-03-20T17:40:30.014785Z",
     "iopub.status.busy": "2022-03-20T17:40:30.013877Z",
     "iopub.status.idle": "2022-03-20T17:40:32.313944Z",
     "shell.execute_reply": "2022-03-20T17:40:32.312515Z"
    },
    "jupyter": {
     "source_hidden": true
    },
    "papermill": {
     "duration": 2.309226,
     "end_time": "2022-03-20T17:40:32.316034",
     "exception": true,
     "start_time": "2022-03-20T17:40:30.006808",
     "status": "failed"
    },
    "tags": []
   },
   "outputs": [
    {
     "ename": "ModuleNotFoundError",
     "evalue": "No module named 'pyod'",
     "output_type": "error",
     "traceback": [
      "\u001b[0;31m---------------------------------------------------------------------------\u001b[0m",
      "\u001b[0;31mModuleNotFoundError\u001b[0m                       Traceback (most recent call last)",
      "Input \u001b[0;32mIn [3]\u001b[0m, in \u001b[0;36m<cell line: 35>\u001b[0;34m()\u001b[0m\n\u001b[1;32m     32\u001b[0m \u001b[38;5;28;01mfrom\u001b[39;00m \u001b[38;5;21;01msklearn\u001b[39;00m\u001b[38;5;21;01m.\u001b[39;00m\u001b[38;5;21;01mmultioutput\u001b[39;00m \u001b[38;5;28;01mimport\u001b[39;00m MultiOutputRegressor\n\u001b[1;32m     34\u001b[0m \u001b[38;5;66;03m# pyod\u001b[39;00m\n\u001b[0;32m---> 35\u001b[0m \u001b[38;5;28;01mfrom\u001b[39;00m \u001b[38;5;21;01mpyod\u001b[39;00m\u001b[38;5;21;01m.\u001b[39;00m\u001b[38;5;21;01mmodels\u001b[39;00m\u001b[38;5;21;01m.\u001b[39;00m\u001b[38;5;21;01mabod\u001b[39;00m \u001b[38;5;28;01mimport\u001b[39;00m ABOD\n\u001b[1;32m     36\u001b[0m \u001b[38;5;28;01mfrom\u001b[39;00m \u001b[38;5;21;01mpyod\u001b[39;00m\u001b[38;5;21;01m.\u001b[39;00m\u001b[38;5;21;01mmodels\u001b[39;00m\u001b[38;5;21;01m.\u001b[39;00m\u001b[38;5;21;01mcblof\u001b[39;00m \u001b[38;5;28;01mimport\u001b[39;00m CBLOF\n\u001b[1;32m     37\u001b[0m \u001b[38;5;28;01mfrom\u001b[39;00m \u001b[38;5;21;01mpyod\u001b[39;00m\u001b[38;5;21;01m.\u001b[39;00m\u001b[38;5;21;01mmodels\u001b[39;00m\u001b[38;5;21;01m.\u001b[39;00m\u001b[38;5;21;01mcof\u001b[39;00m \u001b[38;5;28;01mimport\u001b[39;00m COF\n",
      "\u001b[0;31mModuleNotFoundError\u001b[0m: No module named 'pyod'"
     ]
    }
   ],
   "source": [
    "import os\n",
    "import scipy\n",
    "import numpy as np\n",
    "import pandas as pd\n",
    "from pathlib import Path\n",
    "# pd.set_option('display.max_rows', None)\n",
    "pd.set_option('display.max_columns', None)\n",
    "from sklearn import set_config\n",
    "set_config(display = 'diagram')\n",
    "from pandas.api.types import infer_dtype\n",
    "\n",
    "\n",
    "# Scikit Learn import\n",
    "from sklearn.base import BaseEstimator, TransformerMixin\n",
    "from sklearn.pipeline import Pipeline, FeatureUnion\n",
    "from sklearn.compose import ColumnTransformer, make_column_selector\n",
    "from sklearn.decomposition import PCA\n",
    "from sklearn.svm import OneClassSVM\n",
    "from sklearn.pipeline import FeatureUnion\n",
    "# from imblearn.pipeline import Pipeline\n",
    "from sklearn.model_selection import StratifiedKFold, GridSearchCV, train_test_split, TimeSeriesSplit\n",
    "from sklearn.preprocessing import RobustScaler, LabelEncoder\n",
    "from sklearn.metrics import make_scorer, accuracy_score\n",
    "from sklearn.experimental import enable_halving_search_cv  # noqa\n",
    "from sklearn.model_selection import HalvingGridSearchCV\n",
    "from sklearn.compose import ColumnTransformer\n",
    "from sklearn.pipeline import FeatureUnion\n",
    "from sklearn import cluster\n",
    "from sklearn.feature_extraction.text import TfidfVectorizer\n",
    "from sklearn.preprocessing import OrdinalEncoder, MinMaxScaler, QuantileTransformer\n",
    "from sklearn.impute import SimpleImputer\n",
    "from sklearn.multioutput import MultiOutputRegressor\n",
    "\n",
    "# pyod\n",
    "from pyod.models.abod import ABOD\n",
    "from pyod.models.cblof import CBLOF\n",
    "from pyod.models.cof import COF\n",
    "from pyod.models.iforest import IForest\n",
    "from pyod.models.hbos import HBOS\n",
    "from pyod.models.knn import KNN\n",
    "from pyod.models.lof import LOF\n",
    "from pyod.models.ocsvm import OCSVM\n",
    "from pyod.models.pca import PCA as PCA_pyod\n",
    "from pyod.models.mcd import MCD\n",
    "from pyod.models.sod import SOD\n",
    "from pyod.models.sos import SOS\n",
    "# model\n",
    "from lightgbm import LGBMClassifier, LGBMRegressor\n",
    "from xgboost import XGBClassifier, XGBRegressor\n",
    "from sklearn.ensemble import RandomForestClassifier\n",
    "from catboost import CatBoostClassifier, CatBoostRegressor\n",
    "from imblearn.over_sampling import SMOTE\n",
    "\n",
    "\n",
    "print(\"Done!\")"
   ]
  },
  {
   "cell_type": "code",
   "execution_count": null,
   "id": "fa157851-ac48-4212-a62e-5b7758716eb8",
   "metadata": {
    "jupyter": {
     "source_hidden": true
    },
    "papermill": {
     "duration": null,
     "end_time": null,
     "exception": null,
     "start_time": null,
     "status": "pending"
    },
    "tags": []
   },
   "outputs": [],
   "source": [
    "print(\"Toi la Toan ne\")"
   ]
  }
 ],
 "metadata": {
  "kernelspec": {
   "display_name": "Python 3 (ipykernel)",
   "language": "python",
   "name": "python3"
  },
  "language_info": {
   "codemirror_mode": {
    "name": "ipython",
    "version": 3
   },
   "file_extension": ".py",
   "mimetype": "text/x-python",
   "name": "python",
   "nbconvert_exporter": "python",
   "pygments_lexer": "ipython3",
   "version": "3.8.12"
  },
  "papermill": {
   "default_parameters": {},
   "duration": 5.452627,
   "end_time": "2022-03-20T17:40:32.845776",
   "environment_variables": {},
   "exception": true,
   "input_path": "/opt/code/modeling/TEST.ipynb",
   "output_path": "/opt/code/modeling/output/TS-2022-03-20T17:40:25.463375+00:00.ipynb",
   "parameters": {
    "msgs": "Ran from Airflow at 2022-03-20T17:40:25.463375+00:00!"
   },
   "start_time": "2022-03-20T17:40:27.393149",
   "version": "2.3.4"
  }
 },
 "nbformat": 4,
 "nbformat_minor": 5
}