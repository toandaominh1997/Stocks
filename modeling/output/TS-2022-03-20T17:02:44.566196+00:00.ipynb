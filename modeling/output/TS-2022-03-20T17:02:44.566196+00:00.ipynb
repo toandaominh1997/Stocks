{
 "cells": [
  {
   "cell_type": "code",
   "execution_count": null,
   "id": "e3033548",
   "metadata": {
    "jupyter": {
     "source_hidden": true
    },
    "papermill": {
     "duration": null,
     "end_time": null,
     "exception": null,
     "start_time": null,
     "status": "completed"
    },
    "tags": [
     "injected-parameters"
    ]
   },
   "outputs": [],
   "source": [
    "# Parameters\n",
    "msgs = \"Ran from Airflow at 2022-03-20T17:02:44.566196+00:00!\"\n"
   ]
  },
  {
   "cell_type": "code",
   "execution_count": null,
   "id": "951d4b87-ca8b-49f4-ac1e-2e30251be909",
   "metadata": {
    "jupyter": {
     "source_hidden": true
    },
    "papermill": {
     "duration": null,
     "end_time": null,
     "exception": null,
     "start_time": null,
     "status": "completed"
    },
    "tags": []
   },
   "outputs": [],
   "source": []
  }
 ],
 "metadata": {
  "kernelspec": {
   "display_name": "Python 3 (ipykernel)",
   "language": "python",
   "name": "python3"
  },
  "language_info": {
   "codemirror_mode": {
    "name": "ipython",
    "version": 3
   },
   "file_extension": ".py",
   "mimetype": "text/x-python",
   "name": "python",
   "nbconvert_exporter": "python",
   "pygments_lexer": "ipython3",
   "version": "3.9.7"
  },
  "papermill": {
   "default_parameters": {},
   "duration": 1.049031,
   "end_time": "2022-03-20T17:02:49.206266",
   "environment_variables": {},
   "exception": null,
   "input_path": "/opt/code/modeling/TEST.ipynb",
   "output_path": "/opt/code/modeling/output/TS-2022-03-20T17:02:44.566196+00:00.ipynb",
   "parameters": {
    "msgs": "Ran from Airflow at 2022-03-20T17:02:44.566196+00:00!"
   },
   "start_time": "2022-03-20T17:02:48.157235",
   "version": "2.3.4"
  }
 },
 "nbformat": 4,
 "nbformat_minor": 5
}