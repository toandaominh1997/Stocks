{
 "cells": [
  {
   "cell_type": "code",
   "execution_count": 1,
   "id": "7c05106d",
   "metadata": {
    "execution": {
     "iopub.execute_input": "2022-03-20T17:15:36.686123Z",
     "iopub.status.busy": "2022-03-20T17:15:36.685136Z",
     "iopub.status.idle": "2022-03-20T17:15:36.709217Z",
     "shell.execute_reply": "2022-03-20T17:15:36.707698Z"
    },
    "jupyter": {
     "source_hidden": true
    },
    "papermill": {
     "duration": 0.060394,
     "end_time": "2022-03-20T17:15:36.714027",
     "exception": false,
     "start_time": "2022-03-20T17:15:36.653633",
     "status": "completed"
    },
    "tags": [
     "injected-parameters"
    ]
   },
   "outputs": [],
   "source": [
    "# Parameters\n",
    "msgs = \"Ran from Airflow at 2022-03-20T17:15:30.738313+00:00!\"\n"
   ]
  },
  {
   "cell_type": "code",
   "execution_count": 2,
   "id": "951d4b87-ca8b-49f4-ac1e-2e30251be909",
   "metadata": {
    "execution": {
     "iopub.execute_input": "2022-03-20T17:15:36.733176Z",
     "iopub.status.busy": "2022-03-20T17:15:36.731093Z",
     "iopub.status.idle": "2022-03-20T17:15:36.739224Z",
     "shell.execute_reply": "2022-03-20T17:15:36.738210Z"
    },
    "papermill": {
     "duration": 0.020083,
     "end_time": "2022-03-20T17:15:36.742282",
     "exception": false,
     "start_time": "2022-03-20T17:15:36.722199",
     "status": "completed"
    },
    "tags": []
   },
   "outputs": [
    {
     "name": "stdout",
     "output_type": "stream",
     "text": [
      "Hello\n"
     ]
    }
   ],
   "source": [
    "print(\"Hello\")"
   ]
  },
  {
   "cell_type": "code",
   "execution_count": 3,
   "id": "fc282e3f-3381-4ce6-b72d-ffc64e0bf53e",
   "metadata": {
    "execution": {
     "iopub.execute_input": "2022-03-20T17:15:36.754237Z",
     "iopub.status.busy": "2022-03-20T17:15:36.753692Z",
     "iopub.status.idle": "2022-03-20T17:15:38.012834Z",
     "shell.execute_reply": "2022-03-20T17:15:38.012225Z"
    },
    "papermill": {
     "duration": 1.267121,
     "end_time": "2022-03-20T17:15:38.014697",
     "exception": false,
     "start_time": "2022-03-20T17:15:36.747576",
     "status": "completed"
    },
    "tags": []
   },
   "outputs": [],
   "source": [
    "import numpy as np \n",
    "import pandas as pd"
   ]
  }
 ],
 "metadata": {
  "kernelspec": {
   "display_name": "Python 3 (ipykernel)",
   "language": "python",
   "name": "python3"
  },
  "language_info": {
   "codemirror_mode": {
    "name": "ipython",
    "version": 3
   },
   "file_extension": ".py",
   "mimetype": "text/x-python",
   "name": "python",
   "nbconvert_exporter": "python",
   "pygments_lexer": "ipython3",
   "version": "3.9.7"
  },
  "papermill": {
   "default_parameters": {},
   "duration": 4.345417,
   "end_time": "2022-03-20T17:15:38.341924",
   "environment_variables": {},
   "exception": null,
   "input_path": "/opt/code/modeling/TEST.ipynb",
   "output_path": "/opt/code/modeling/output/TS-2022-03-20T17:15:30.738313+00:00.ipynb",
   "parameters": {
    "msgs": "Ran from Airflow at 2022-03-20T17:15:30.738313+00:00!"
   },
   "start_time": "2022-03-20T17:15:33.996507",
   "version": "2.3.4"
  }
 },
 "nbformat": 4,
 "nbformat_minor": 5
}
